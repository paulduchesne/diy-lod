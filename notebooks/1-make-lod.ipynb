{
 "cells": [
  {
   "cell_type": "markdown",
   "metadata": {},
   "source": [
    "**Convert archival statements into Linked Open Data**\n",
    "\n",
    "```\n",
    "Simple Men was a film.\n",
    "Simple Men was directed by Hal Hartley.\n",
    "Acetate Print of Simple Men is a film item.\n",
    "Acetate Print of Simple Men is made of Acetate.\n",
    "Amateur was a film.\n",
    "Amateur was directed by Hal Hartley.\n",
    "Polyester Print of Amateur is a film item.\n",
    "Polyester Print of Amateur is made of Polyester\n",
    "```"
   ]
  },
  {
   "cell_type": "markdown",
   "metadata": {},
   "source": [
    "Entities need to be converted from text into unambiguous URLs, and a good searchable resource for this is Wikidata   \n",
    "\n",
    "Convert \"Hal Hartley\" into corresponding Wikidata URL (http://www.wikidata.org/entity/Q446294)\n",
    "\n",
    "```\n",
    "Simple Men was a film.   \n",
    "Simple Men was directed by http://www.wikidata.org/entity/Q446294 .   \n",
    "Acetate Print of Simple Men is a film item.   \n",
    "Acetate Print of Simple Men is made of Acetate.   \n",
    "Amateur was a film.   \n",
    "Amateur was directed by http://www.wikidata.org/entity/Q446294 .   \n",
    "Polyester Print of Amateur is a film item.   \n",
    "Polyester Print of Amateur is made of Polyester.\n",
    "```"
   ]
  },
  {
   "cell_type": "markdown",
   "metadata": {},
   "source": [
    "Replace \"Film\", \"Simple Men\", \"Amateur\", \"Acetate\" and \"Polyester\" with Wikidata URLs\n",
    "\n",
    "```\n",
    "http://www.wikidata.org/entity/Q2316927 was a http://www.wikidata.org/entity/Q11424 .\n",
    "http://www.wikidata.org/entity/Q2316927 was directed by http://www.wikidata.org/entity/Q446294 .\n",
    "Acetate Print of Simple Men is a film item.\n",
    "Acetate Print of Simple Men is made of http://www.wikidata.org/entity/Q124686.\n",
    "http://www.wikidata.org/entity/Q455552 was a http://www.wikidata.org/entity/Q11424 .\n",
    "http://www.wikidata.org/entity/Q455552 was directed by http://www.wikidata.org/entity/Q446294 .\n",
    "Polyester Print of Amateur is a film item.\n",
    "Polyester Print of Amateur is made of http://www.wikidata.org/entity/Q188245 .\n",
    "```"
   ]
  },
  {
   "cell_type": "markdown",
   "metadata": {},
   "source": [
    "Relationships can also be converted to appropriate Wikidata URLs\n",
    "\n",
    "```\n",
    "http://www.wikidata.org/entity/Q2316927 http://www.wikidata.org/entity/P31 http://www.wikidata.org/entity/Q11424 .\n",
    "http://www.wikidata.org/entity/Q2316927 http://www.wikidata.org/entity/P57 http://www.wikidata.org/entity/Q446294 .\n",
    "Acetate Print of Simple Men http://www.wikidata.org/entity/P31 film item.\n",
    "Acetate Print of Simple Men http://www.wikidata.org/entity/P186 http://www.wikidata.org/entity/Q124686.\n",
    "http://www.wikidata.org/entity/Q455552 http://www.wikidata.org/entity/P31 http://www.wikidata.org/entity/Q11424 .\n",
    "http://www.wikidata.org/entity/Q455552 http://www.wikidata.org/entity/P57 http://www.wikidata.org/entity/Q446294 .\n",
    "Polyester Print of Amateur http://www.wikidata.org/entity/P31 film item.\n",
    "Polyester Print of Amateur http://www.wikidata.org/entity/P186 http://www.wikidata.org/entity/Q188245 .\n",
    "```"
   ]
  },
  {
   "cell_type": "markdown",
   "metadata": {},
   "source": [
    "Specific prints and \"film item\" do not exist on Wikidata, so we must create our own URLs\n",
    "\n",
    "Ideally each new URL should link to a page which provides a defintion\n",
    "\n",
    "```\n",
    "http://www.wikidata.org/entity/Q2316927 http://www.wikidata.org/entity/P31 http://www.wikidata.org/entity/Q11424 .\n",
    "http://www.wikidata.org/entity/Q2316927 http://www.wikidata.org/entity/P57 http://www.wikidata.org/entity/Q446294 .\n",
    "http://my-archive.org/acetate_print_of_simple_men http://www.wikidata.org/entity/P31 http://my-archive.org/film_item .\n",
    "http://my-archive.org/acetate_print_of_simple_men http://www.wikidata.org/entity/P186 http://www.wikidata.org/entity/Q124686 .\n",
    "http://www.wikidata.org/entity/Q455552 http://www.wikidata.org/entity/P31 http://www.wikidata.org/entity/Q11424 .\n",
    "http://www.wikidata.org/entity/Q455552 http://www.wikidata.org/entity/P57 http://www.wikidata.org/entity/Q446294 .\n",
    "http://my-archive.org/polyester_print_of_amateur http://www.wikidata.org/entity/P31 http://my-archive.org/film_item .\n",
    "http://my-archive.org/polyester_print_of_amateur http://www.wikidata.org/entity/P186 http://www.wikidata.org/entity/Q188245 .\n",
    "```"
   ]
  },
  {
   "cell_type": "markdown",
   "metadata": {},
   "source": [
    "Proper formatting is that each URL is enclosed in triangle brackets, and a full stop at the end of each statement\n",
    "\n",
    "```\n",
    "<http://www.wikidata.org/entity/Q2316927> <http://www.wikidata.org/entity/P31> <http://www.wikidata.org/entity/Q11424> .\n",
    "<http://www.wikidata.org/entity/Q2316927> <http://www.wikidata.org/entity/P57> <http://www.wikidata.org/entity/Q446294> .\n",
    "<http://my-archive.org/acetate_print_of_simple_men> <http://www.wikidata.org/entity/P31> <http://my-archive.org/film_item> .\n",
    "<http://my-archive.org/acetate_print_of_simple_men> <http://www.wikidata.org/entity/P186> <http://www.wikidata.org/entity/Q124686> .\n",
    "<http://www.wikidata.org/entity/Q455552> <http://www.wikidata.org/entity/P31> <http://www.wikidata.org/entity/Q11424> .\n",
    "<http://www.wikidata.org/entity/Q455552> <http://www.wikidata.org/entity/P57> <http://www.wikidata.org/entity/Q446294> .\n",
    "<http://my-archive.org/polyester_print_of_amateur> <http://www.wikidata.org/entity/P31> <http://my-archive.org/film_item> .\n",
    "<http://my-archive.org/polyester_print_of_amateur> <http://www.wikidata.org/entity/P186> <http://www.wikidata.org/entity/Q188245> .\n",
    "```"
   ]
  },
  {
   "cell_type": "markdown",
   "metadata": {},
   "source": [
    "Syntax can be validated at http://ttl.summerofcode.be/"
   ]
  }
 ],
 "metadata": {
  "interpreter": {
   "hash": "916dbcbb3f70747c44a77c7bcd40155683ae19c65e1c03b4aa3499c5328201f1"
  },
  "kernelspec": {
   "display_name": "Python 3.10.4 64-bit",
   "language": "python",
   "name": "python3"
  },
  "language_info": {
   "codemirror_mode": {
    "name": "ipython",
    "version": 3
   },
   "file_extension": ".py",
   "mimetype": "text/x-python",
   "name": "python",
   "nbconvert_exporter": "python",
   "pygments_lexer": "ipython3",
   "version": "3.10.4"
  },
  "orig_nbformat": 4
 },
 "nbformat": 4,
 "nbformat_minor": 2
}
