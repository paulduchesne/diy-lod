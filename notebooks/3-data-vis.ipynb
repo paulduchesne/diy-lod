{
 "cells": [
  {
   "cell_type": "markdown",
   "metadata": {},
   "source": [
    "**Use LOD to produce a chart**\n",
    "\n",
    "Our triplestore can be used as a basis for data visualisation\n",
    "\n",
    "An example question could be \"what are the film bases for each film item per film work?\"\n",
    "\n",
    "To begin with we would use the same Python functions as before"
   ]
  },
  {
   "cell_type": "code",
   "execution_count": 1,
   "metadata": {},
   "outputs": [],
   "source": [
    "import altair\n",
    "import pandas\n",
    "import pydash\n",
    "import requests\n",
    "\n",
    "def value_extract(row, col):\n",
    "\n",
    "    \"\"\"Extract dictionary values.\"\"\"\n",
    "\n",
    "    return pydash.get(row[col], \"value\")\n",
    "\n",
    "def sparql_query(query):\n",
    "\n",
    "    \"\"\"Send sparql request, and formulate results into a dataframe.\"\"\"\n",
    "\n",
    "    r = requests.post('http://138.197.180.196:3030/test-data/sparql', data={'query': query}, verify=False)  \n",
    "    data = pydash.get(r.json(), \"results.bindings\")\n",
    "    data = pandas.DataFrame.from_dict(data)\n",
    "    for x in data.columns:\n",
    "        data[x] = data.apply(value_extract, col=x, axis=1)\n",
    "    return data"
   ]
  },
  {
   "cell_type": "markdown",
   "metadata": {},
   "source": [
    "Write a query which gets a list of all \"film work\" and \"film item\" relationships\n",
    "\n",
    "I have moved the SPARQL query on to multiple lines because we are now going to be building more complex questions"
   ]
  },
  {
   "cell_type": "code",
   "execution_count": 2,
   "metadata": {},
   "outputs": [
    {
     "data": {
      "text/html": [
       "<div>\n",
       "<style scoped>\n",
       "    .dataframe tbody tr th:only-of-type {\n",
       "        vertical-align: middle;\n",
       "    }\n",
       "\n",
       "    .dataframe tbody tr th {\n",
       "        vertical-align: top;\n",
       "    }\n",
       "\n",
       "    .dataframe thead th {\n",
       "        text-align: right;\n",
       "    }\n",
       "</style>\n",
       "<table border=\"1\" class=\"dataframe\">\n",
       "  <thead>\n",
       "    <tr style=\"text-align: right;\">\n",
       "      <th></th>\n",
       "      <th>film_work_url</th>\n",
       "      <th>film_item_url</th>\n",
       "    </tr>\n",
       "  </thead>\n",
       "  <tbody>\n",
       "    <tr>\n",
       "      <th>0</th>\n",
       "      <td>http://www.wikidata.org/entity/Q2316927</td>\n",
       "      <td>http://my-archive.org/acetate_print_of_simple_men</td>\n",
       "    </tr>\n",
       "    <tr>\n",
       "      <th>1</th>\n",
       "      <td>http://www.wikidata.org/entity/Q455552</td>\n",
       "      <td>http://my-archive.org/polyester_print_of_amateur</td>\n",
       "    </tr>\n",
       "  </tbody>\n",
       "</table>\n",
       "</div>"
      ],
      "text/plain": [
       "                             film_work_url  \\\n",
       "0  http://www.wikidata.org/entity/Q2316927   \n",
       "1   http://www.wikidata.org/entity/Q455552   \n",
       "\n",
       "                                       film_item_url  \n",
       "0  http://my-archive.org/acetate_print_of_simple_men  \n",
       "1   http://my-archive.org/polyester_print_of_amateur  "
      ]
     },
     "execution_count": 2,
     "metadata": {},
     "output_type": "execute_result"
    }
   ],
   "source": [
    "dataframe = sparql_query(\n",
    "    '''\n",
    "    select ?film_work_url ?film_item_url \n",
    "    where { \n",
    "        ?film_work_url <http://my-archive.org/has_film_item> ?film_item_url .\n",
    "    }\n",
    "    '''\n",
    "    ) \n",
    "\n",
    "dataframe.head()"
   ]
  },
  {
   "cell_type": "markdown",
   "metadata": {},
   "source": [
    "The ?film_work_url and ?film_item_url are called \"variables\" and hold the matching elements\n",
    "\n",
    "The same result would happen if we used any variable name, although it would be confusing to read the query and the result"
   ]
  },
  {
   "cell_type": "code",
   "execution_count": 3,
   "metadata": {},
   "outputs": [
    {
     "data": {
      "text/html": [
       "<div>\n",
       "<style scoped>\n",
       "    .dataframe tbody tr th:only-of-type {\n",
       "        vertical-align: middle;\n",
       "    }\n",
       "\n",
       "    .dataframe tbody tr th {\n",
       "        vertical-align: top;\n",
       "    }\n",
       "\n",
       "    .dataframe thead th {\n",
       "        text-align: right;\n",
       "    }\n",
       "</style>\n",
       "<table border=\"1\" class=\"dataframe\">\n",
       "  <thead>\n",
       "    <tr style=\"text-align: right;\">\n",
       "      <th></th>\n",
       "      <th>banana</th>\n",
       "      <th>grapefruit</th>\n",
       "    </tr>\n",
       "  </thead>\n",
       "  <tbody>\n",
       "    <tr>\n",
       "      <th>0</th>\n",
       "      <td>http://www.wikidata.org/entity/Q2316927</td>\n",
       "      <td>http://my-archive.org/acetate_print_of_simple_men</td>\n",
       "    </tr>\n",
       "    <tr>\n",
       "      <th>1</th>\n",
       "      <td>http://www.wikidata.org/entity/Q455552</td>\n",
       "      <td>http://my-archive.org/polyester_print_of_amateur</td>\n",
       "    </tr>\n",
       "  </tbody>\n",
       "</table>\n",
       "</div>"
      ],
      "text/plain": [
       "                                    banana  \\\n",
       "0  http://www.wikidata.org/entity/Q2316927   \n",
       "1   http://www.wikidata.org/entity/Q455552   \n",
       "\n",
       "                                          grapefruit  \n",
       "0  http://my-archive.org/acetate_print_of_simple_men  \n",
       "1   http://my-archive.org/polyester_print_of_amateur  "
      ]
     },
     "execution_count": 3,
     "metadata": {},
     "output_type": "execute_result"
    }
   ],
   "source": [
    "dataframe = sparql_query(\n",
    "    '''\n",
    "    select ?banana ?grapefruit \n",
    "    where { \n",
    "        ?banana <http://my-archive.org/has_film_item> ?grapefruit .\n",
    "    }\n",
    "    '''\n",
    "    ) \n",
    "\n",
    "dataframe.head()"
   ]
  },
  {
   "cell_type": "markdown",
   "metadata": {},
   "source": [
    "We can also make use of our statements to return labels not URLs \n",
    "\n",
    "Here we are not just filtering the graph, we are pulling different data statements and joining them together"
   ]
  },
  {
   "cell_type": "code",
   "execution_count": 4,
   "metadata": {},
   "outputs": [
    {
     "data": {
      "text/html": [
       "<div>\n",
       "<style scoped>\n",
       "    .dataframe tbody tr th:only-of-type {\n",
       "        vertical-align: middle;\n",
       "    }\n",
       "\n",
       "    .dataframe tbody tr th {\n",
       "        vertical-align: top;\n",
       "    }\n",
       "\n",
       "    .dataframe thead th {\n",
       "        text-align: right;\n",
       "    }\n",
       "</style>\n",
       "<table border=\"1\" class=\"dataframe\">\n",
       "  <thead>\n",
       "    <tr style=\"text-align: right;\">\n",
       "      <th></th>\n",
       "      <th>film_work_url</th>\n",
       "      <th>film_work</th>\n",
       "      <th>film_item_url</th>\n",
       "      <th>film_item</th>\n",
       "    </tr>\n",
       "  </thead>\n",
       "  <tbody>\n",
       "    <tr>\n",
       "      <th>0</th>\n",
       "      <td>http://www.wikidata.org/entity/Q2316927</td>\n",
       "      <td>Simple Men</td>\n",
       "      <td>http://my-archive.org/acetate_print_of_simple_men</td>\n",
       "      <td>Acetate Print of Simple Men</td>\n",
       "    </tr>\n",
       "    <tr>\n",
       "      <th>1</th>\n",
       "      <td>http://www.wikidata.org/entity/Q455552</td>\n",
       "      <td>Amateur</td>\n",
       "      <td>http://my-archive.org/polyester_print_of_amateur</td>\n",
       "      <td>Polyester Print of Amateur</td>\n",
       "    </tr>\n",
       "  </tbody>\n",
       "</table>\n",
       "</div>"
      ],
      "text/plain": [
       "                             film_work_url   film_work  \\\n",
       "0  http://www.wikidata.org/entity/Q2316927  Simple Men   \n",
       "1   http://www.wikidata.org/entity/Q455552     Amateur   \n",
       "\n",
       "                                       film_item_url  \\\n",
       "0  http://my-archive.org/acetate_print_of_simple_men   \n",
       "1   http://my-archive.org/polyester_print_of_amateur   \n",
       "\n",
       "                     film_item  \n",
       "0  Acetate Print of Simple Men  \n",
       "1   Polyester Print of Amateur  "
      ]
     },
     "execution_count": 4,
     "metadata": {},
     "output_type": "execute_result"
    }
   ],
   "source": [
    "dataframe = sparql_query(\n",
    "    '''\n",
    "    select ?film_work_url ?film_work ?film_item_url ?film_item \n",
    "    where { \n",
    "        ?film_work_url <http://my-archive.org/has_film_item> ?film_item_url .\n",
    "        ?film_work_url <http://www.w3.org/2000/01/rdf-schema#label> ?film_work .\n",
    "        ?film_item_url <http://www.w3.org/2000/01/rdf-schema#label> ?film_item .\n",
    "    }\n",
    "    '''\n",
    "    ) \n",
    "\n",
    "dataframe.head()"
   ]
  },
  {
   "cell_type": "markdown",
   "metadata": {},
   "source": [
    "Add the item base and the base label"
   ]
  },
  {
   "cell_type": "code",
   "execution_count": 5,
   "metadata": {},
   "outputs": [
    {
     "data": {
      "text/html": [
       "<div>\n",
       "<style scoped>\n",
       "    .dataframe tbody tr th:only-of-type {\n",
       "        vertical-align: middle;\n",
       "    }\n",
       "\n",
       "    .dataframe tbody tr th {\n",
       "        vertical-align: top;\n",
       "    }\n",
       "\n",
       "    .dataframe thead th {\n",
       "        text-align: right;\n",
       "    }\n",
       "</style>\n",
       "<table border=\"1\" class=\"dataframe\">\n",
       "  <thead>\n",
       "    <tr style=\"text-align: right;\">\n",
       "      <th></th>\n",
       "      <th>film_work_url</th>\n",
       "      <th>film_work</th>\n",
       "      <th>film_item_url</th>\n",
       "      <th>film_item</th>\n",
       "      <th>film_base_url</th>\n",
       "      <th>film_base</th>\n",
       "    </tr>\n",
       "  </thead>\n",
       "  <tbody>\n",
       "    <tr>\n",
       "      <th>0</th>\n",
       "      <td>http://www.wikidata.org/entity/Q2316927</td>\n",
       "      <td>Simple Men</td>\n",
       "      <td>http://my-archive.org/acetate_print_of_simple_men</td>\n",
       "      <td>Acetate Print of Simple Men</td>\n",
       "      <td>http://www.wikidata.org/entity/Q124686</td>\n",
       "      <td>Acetate</td>\n",
       "    </tr>\n",
       "    <tr>\n",
       "      <th>1</th>\n",
       "      <td>http://www.wikidata.org/entity/Q455552</td>\n",
       "      <td>Amateur</td>\n",
       "      <td>http://my-archive.org/polyester_print_of_amateur</td>\n",
       "      <td>Polyester Print of Amateur</td>\n",
       "      <td>http://www.wikidata.org/entity/Q188245</td>\n",
       "      <td>Polyester</td>\n",
       "    </tr>\n",
       "  </tbody>\n",
       "</table>\n",
       "</div>"
      ],
      "text/plain": [
       "                             film_work_url   film_work  \\\n",
       "0  http://www.wikidata.org/entity/Q2316927  Simple Men   \n",
       "1   http://www.wikidata.org/entity/Q455552     Amateur   \n",
       "\n",
       "                                       film_item_url  \\\n",
       "0  http://my-archive.org/acetate_print_of_simple_men   \n",
       "1   http://my-archive.org/polyester_print_of_amateur   \n",
       "\n",
       "                     film_item                           film_base_url  \\\n",
       "0  Acetate Print of Simple Men  http://www.wikidata.org/entity/Q124686   \n",
       "1   Polyester Print of Amateur  http://www.wikidata.org/entity/Q188245   \n",
       "\n",
       "   film_base  \n",
       "0    Acetate  \n",
       "1  Polyester  "
      ]
     },
     "execution_count": 5,
     "metadata": {},
     "output_type": "execute_result"
    }
   ],
   "source": [
    "dataframe = sparql_query(\n",
    "    '''\n",
    "    select ?film_work_url ?film_work ?film_item_url ?film_item ?film_base_url ?film_base\n",
    "    where { \n",
    "        ?film_work_url <http://my-archive.org/has_film_item> ?film_item_url .\n",
    "        ?film_work_url <http://www.w3.org/2000/01/rdf-schema#label> ?film_work .\n",
    "        ?film_item_url <http://www.w3.org/2000/01/rdf-schema#label> ?film_item .\n",
    "        ?film_item_url <http://www.wikidata.org/entity/P186> ?film_base_url .\n",
    "        ?film_base_url <http://www.w3.org/2000/01/rdf-schema#label> ?film_base .\n",
    "    }\n",
    "    '''\n",
    "    ) \n",
    "\n",
    "dataframe.head()"
   ]
  },
  {
   "cell_type": "markdown",
   "metadata": {},
   "source": [
    "The variables in the \"select\" area can be reduced to only those data elements which we are interested in\n",
    "\n",
    "Here the question was around \"film base\" per \"film item\" by \"film base\" per \"film work\". "
   ]
  },
  {
   "cell_type": "code",
   "execution_count": 6,
   "metadata": {},
   "outputs": [
    {
     "data": {
      "text/html": [
       "<div>\n",
       "<style scoped>\n",
       "    .dataframe tbody tr th:only-of-type {\n",
       "        vertical-align: middle;\n",
       "    }\n",
       "\n",
       "    .dataframe tbody tr th {\n",
       "        vertical-align: top;\n",
       "    }\n",
       "\n",
       "    .dataframe thead th {\n",
       "        text-align: right;\n",
       "    }\n",
       "</style>\n",
       "<table border=\"1\" class=\"dataframe\">\n",
       "  <thead>\n",
       "    <tr style=\"text-align: right;\">\n",
       "      <th></th>\n",
       "      <th>film_work</th>\n",
       "      <th>film_base</th>\n",
       "    </tr>\n",
       "  </thead>\n",
       "  <tbody>\n",
       "    <tr>\n",
       "      <th>0</th>\n",
       "      <td>Simple Men</td>\n",
       "      <td>Acetate</td>\n",
       "    </tr>\n",
       "    <tr>\n",
       "      <th>1</th>\n",
       "      <td>Amateur</td>\n",
       "      <td>Polyester</td>\n",
       "    </tr>\n",
       "  </tbody>\n",
       "</table>\n",
       "</div>"
      ],
      "text/plain": [
       "    film_work  film_base\n",
       "0  Simple Men    Acetate\n",
       "1     Amateur  Polyester"
      ]
     },
     "execution_count": 6,
     "metadata": {},
     "output_type": "execute_result"
    }
   ],
   "source": [
    "dataframe = sparql_query(\n",
    "    '''\n",
    "    select ?film_work ?film_base \n",
    "    where { \n",
    "        ?film_work_url <http://my-archive.org/has_film_item> ?film_item_url .\n",
    "        ?film_work_url <http://www.w3.org/2000/01/rdf-schema#label> ?film_work .\n",
    "        ?film_item_url <http://www.w3.org/2000/01/rdf-schema#label> ?film_item .\n",
    "        ?film_item_url <http://www.wikidata.org/entity/P186> ?film_base_url .\n",
    "        ?film_base_url <http://www.w3.org/2000/01/rdf-schema#label> ?film_base .\n",
    "    }\n",
    "    '''\n",
    "    ) \n",
    "\n",
    "dataframe.head()"
   ]
  },
  {
   "cell_type": "markdown",
   "metadata": {},
   "source": [
    "Now that we have a retrieved the requried data into a table, we can use a Python library to draw the chart"
   ]
  },
  {
   "cell_type": "code",
   "execution_count": 7,
   "metadata": {},
   "outputs": [
    {
     "data": {
      "text/html": [
       "\n",
       "<div id=\"altair-viz-a4f4c7631b654006a97d5a22cb233b99\"></div>\n",
       "<script type=\"text/javascript\">\n",
       "  var VEGA_DEBUG = (typeof VEGA_DEBUG == \"undefined\") ? {} : VEGA_DEBUG;\n",
       "  (function(spec, embedOpt){\n",
       "    let outputDiv = document.currentScript.previousElementSibling;\n",
       "    if (outputDiv.id !== \"altair-viz-a4f4c7631b654006a97d5a22cb233b99\") {\n",
       "      outputDiv = document.getElementById(\"altair-viz-a4f4c7631b654006a97d5a22cb233b99\");\n",
       "    }\n",
       "    const paths = {\n",
       "      \"vega\": \"https://cdn.jsdelivr.net/npm//vega@5?noext\",\n",
       "      \"vega-lib\": \"https://cdn.jsdelivr.net/npm//vega-lib?noext\",\n",
       "      \"vega-lite\": \"https://cdn.jsdelivr.net/npm//vega-lite@4.17.0?noext\",\n",
       "      \"vega-embed\": \"https://cdn.jsdelivr.net/npm//vega-embed@6?noext\",\n",
       "    };\n",
       "\n",
       "    function maybeLoadScript(lib, version) {\n",
       "      var key = `${lib.replace(\"-\", \"\")}_version`;\n",
       "      return (VEGA_DEBUG[key] == version) ?\n",
       "        Promise.resolve(paths[lib]) :\n",
       "        new Promise(function(resolve, reject) {\n",
       "          var s = document.createElement('script');\n",
       "          document.getElementsByTagName(\"head\")[0].appendChild(s);\n",
       "          s.async = true;\n",
       "          s.onload = () => {\n",
       "            VEGA_DEBUG[key] = version;\n",
       "            return resolve(paths[lib]);\n",
       "          };\n",
       "          s.onerror = () => reject(`Error loading script: ${paths[lib]}`);\n",
       "          s.src = paths[lib];\n",
       "        });\n",
       "    }\n",
       "\n",
       "    function showError(err) {\n",
       "      outputDiv.innerHTML = `<div class=\"error\" style=\"color:red;\">${err}</div>`;\n",
       "      throw err;\n",
       "    }\n",
       "\n",
       "    function displayChart(vegaEmbed) {\n",
       "      vegaEmbed(outputDiv, spec, embedOpt)\n",
       "        .catch(err => showError(`Javascript Error: ${err.message}<br>This usually means there's a typo in your chart specification. See the javascript console for the full traceback.`));\n",
       "    }\n",
       "\n",
       "    if(typeof define === \"function\" && define.amd) {\n",
       "      requirejs.config({paths});\n",
       "      require([\"vega-embed\"], displayChart, err => showError(`Error loading script: ${err.message}`));\n",
       "    } else {\n",
       "      maybeLoadScript(\"vega\", \"5\")\n",
       "        .then(() => maybeLoadScript(\"vega-lite\", \"4.17.0\"))\n",
       "        .then(() => maybeLoadScript(\"vega-embed\", \"6\"))\n",
       "        .catch(showError)\n",
       "        .then(() => displayChart(vegaEmbed));\n",
       "    }\n",
       "  })({\"config\": {\"view\": {\"continuousWidth\": 400, \"continuousHeight\": 300}}, \"data\": {\"name\": \"data-d3b252a056c8185ddc04c7964f844d7e\"}, \"mark\": \"bar\", \"encoding\": {\"color\": {\"field\": \"film_base\", \"type\": \"nominal\"}, \"x\": {\"aggregate\": \"count\", \"field\": \"film_base\", \"type\": \"nominal\"}, \"y\": {\"field\": \"film_work\", \"type\": \"nominal\"}}, \"$schema\": \"https://vega.github.io/schema/vega-lite/v4.17.0.json\", \"datasets\": {\"data-d3b252a056c8185ddc04c7964f844d7e\": [{\"film_work\": \"Simple Men\", \"film_base\": \"Acetate\"}, {\"film_work\": \"Amateur\", \"film_base\": \"Polyester\"}]}}, {\"mode\": \"vega-lite\"});\n",
       "</script>"
      ],
      "text/plain": [
       "alt.Chart(...)"
      ]
     },
     "execution_count": 7,
     "metadata": {},
     "output_type": "execute_result"
    }
   ],
   "source": [
    "altair.Chart(dataframe).mark_bar().encode(\n",
    "    y='film_work',\n",
    "    x='count(film_base)',\n",
    "    color='film_base'\n",
    ")"
   ]
  }
 ],
 "metadata": {
  "interpreter": {
   "hash": "916dbcbb3f70747c44a77c7bcd40155683ae19c65e1c03b4aa3499c5328201f1"
  },
  "kernelspec": {
   "display_name": "Python 3.10.4 64-bit",
   "language": "python",
   "name": "python3"
  },
  "language_info": {
   "codemirror_mode": {
    "name": "ipython",
    "version": 3
   },
   "file_extension": ".py",
   "mimetype": "text/x-python",
   "name": "python",
   "nbconvert_exporter": "python",
   "pygments_lexer": "ipython3",
   "version": "3.10.4"
  },
  "orig_nbformat": 4
 },
 "nbformat": 4,
 "nbformat_minor": 2
}
