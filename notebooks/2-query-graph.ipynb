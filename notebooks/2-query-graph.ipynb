{
 "cells": [
  {
   "cell_type": "markdown",
   "metadata": {},
   "source": [
    "**Run queries on triplestore**\n",
    "\n",
    "The data from the last section has been loaded into a triplestore at http://138.197.180.196:3030/\n",
    "\n",
    "Queries are made using a language called SPARQL and can be either submitted manually within the web interface, or requested programmatically as below\n",
    "\n",
    "Here are some basic Python functions to send the request across to the triplestore and retrieve a data table"
   ]
  },
  {
   "cell_type": "code",
   "execution_count": 16,
   "metadata": {},
   "outputs": [],
   "source": [
    "import pandas\n",
    "import pydash\n",
    "import requests\n",
    "\n",
    "def value_extract(row, col):\n",
    "\n",
    "    \"\"\"Extract dictionary values.\"\"\"\n",
    "\n",
    "    return pydash.get(row[col], \"value\")\n",
    "\n",
    "def sparql_query(query):\n",
    "\n",
    "    \"\"\"Send sparql request, and formulate results into a dataframe.\"\"\"\n",
    "\n",
    "    r = requests.post('http://138.197.180.196:3030/test-data/sparql', data={'query': query}, verify=False)  \n",
    "    data = pydash.get(r.json(), \"results.bindings\")\n",
    "    data = pandas.DataFrame.from_dict(data)\n",
    "    for x in data.columns:\n",
    "        data[x] = data.apply(value_extract, col=x, axis=1)\n",
    "    return data"
   ]
  },
  {
   "cell_type": "markdown",
   "metadata": {},
   "source": [
    "The query to return everything: select * where { ?a ?b ?c }\n",
    "\n",
    "Importantly even though we are using Wikidata identifiers, there is no interaction with Wikidata itself\n",
    "\n",
    "The triplestore is only aware of the eight statements which we provided earlier"
   ]
  },
  {
   "cell_type": "code",
   "execution_count": 17,
   "metadata": {},
   "outputs": [
    {
     "data": {
      "text/html": [
       "<div>\n",
       "<style scoped>\n",
       "    .dataframe tbody tr th:only-of-type {\n",
       "        vertical-align: middle;\n",
       "    }\n",
       "\n",
       "    .dataframe tbody tr th {\n",
       "        vertical-align: top;\n",
       "    }\n",
       "\n",
       "    .dataframe thead th {\n",
       "        text-align: right;\n",
       "    }\n",
       "</style>\n",
       "<table border=\"1\" class=\"dataframe\">\n",
       "  <thead>\n",
       "    <tr style=\"text-align: right;\">\n",
       "      <th></th>\n",
       "      <th>a</th>\n",
       "      <th>b</th>\n",
       "      <th>c</th>\n",
       "    </tr>\n",
       "  </thead>\n",
       "  <tbody>\n",
       "    <tr>\n",
       "      <th>0</th>\n",
       "      <td>http://www.wikidata.org/entity/Q2316927</td>\n",
       "      <td>http://www.wikidata.org/entity/P31</td>\n",
       "      <td>http://www.wikidata.org/entity/Q11424</td>\n",
       "    </tr>\n",
       "    <tr>\n",
       "      <th>1</th>\n",
       "      <td>http://www.wikidata.org/entity/Q2316927</td>\n",
       "      <td>http://www.wikidata.org/entity/P57</td>\n",
       "      <td>http://www.wikidata.org/entity/Q446294</td>\n",
       "    </tr>\n",
       "    <tr>\n",
       "      <th>2</th>\n",
       "      <td>http://my-archive.org/acetate_print_of_simple_men</td>\n",
       "      <td>http://www.wikidata.org/entity/P31</td>\n",
       "      <td>http://my-archive.org/film_item</td>\n",
       "    </tr>\n",
       "    <tr>\n",
       "      <th>3</th>\n",
       "      <td>http://my-archive.org/acetate_print_of_simple_men</td>\n",
       "      <td>http://www.wikidata.org/entity/P186</td>\n",
       "      <td>http://www.wikidata.org/entity/Q124686</td>\n",
       "    </tr>\n",
       "    <tr>\n",
       "      <th>4</th>\n",
       "      <td>http://www.wikidata.org/entity/Q455552</td>\n",
       "      <td>http://www.wikidata.org/entity/P31</td>\n",
       "      <td>http://www.wikidata.org/entity/Q11424</td>\n",
       "    </tr>\n",
       "    <tr>\n",
       "      <th>5</th>\n",
       "      <td>http://www.wikidata.org/entity/Q455552</td>\n",
       "      <td>http://www.wikidata.org/entity/P57</td>\n",
       "      <td>http://www.wikidata.org/entity/Q446294</td>\n",
       "    </tr>\n",
       "    <tr>\n",
       "      <th>6</th>\n",
       "      <td>http://my-archive.org/polyester_print_of_amateur</td>\n",
       "      <td>http://www.wikidata.org/entity/P31</td>\n",
       "      <td>http://my-archive.org/film_item</td>\n",
       "    </tr>\n",
       "    <tr>\n",
       "      <th>7</th>\n",
       "      <td>http://my-archive.org/polyester_print_of_amateur</td>\n",
       "      <td>http://www.wikidata.org/entity/P186</td>\n",
       "      <td>http://www.wikidata.org/entity/Q188245</td>\n",
       "    </tr>\n",
       "  </tbody>\n",
       "</table>\n",
       "</div>"
      ],
      "text/plain": [
       "                                                   a  \\\n",
       "0            http://www.wikidata.org/entity/Q2316927   \n",
       "1            http://www.wikidata.org/entity/Q2316927   \n",
       "2  http://my-archive.org/acetate_print_of_simple_men   \n",
       "3  http://my-archive.org/acetate_print_of_simple_men   \n",
       "4             http://www.wikidata.org/entity/Q455552   \n",
       "5             http://www.wikidata.org/entity/Q455552   \n",
       "6   http://my-archive.org/polyester_print_of_amateur   \n",
       "7   http://my-archive.org/polyester_print_of_amateur   \n",
       "\n",
       "                                     b                                       c  \n",
       "0   http://www.wikidata.org/entity/P31   http://www.wikidata.org/entity/Q11424  \n",
       "1   http://www.wikidata.org/entity/P57  http://www.wikidata.org/entity/Q446294  \n",
       "2   http://www.wikidata.org/entity/P31         http://my-archive.org/film_item  \n",
       "3  http://www.wikidata.org/entity/P186  http://www.wikidata.org/entity/Q124686  \n",
       "4   http://www.wikidata.org/entity/P31   http://www.wikidata.org/entity/Q11424  \n",
       "5   http://www.wikidata.org/entity/P57  http://www.wikidata.org/entity/Q446294  \n",
       "6   http://www.wikidata.org/entity/P31         http://my-archive.org/film_item  \n",
       "7  http://www.wikidata.org/entity/P186  http://www.wikidata.org/entity/Q188245  "
      ]
     },
     "execution_count": 17,
     "metadata": {},
     "output_type": "execute_result"
    }
   ],
   "source": [
    "dataframe = sparql_query('select * where { ?a ?b ?c } ')\n",
    "dataframe.head(10)"
   ]
  },
  {
   "cell_type": "markdown",
   "metadata": {},
   "source": [
    "At its most basic level, SPARQL works by pattern matching\n",
    "\n",
    "Say we want to return everything which \"is a\" \"film\", we would substitute \"b\" and \"c\" for these values\n",
    "\n",
    "Remember the triangle brackets around any URL in the query!"
   ]
  },
  {
   "cell_type": "code",
   "execution_count": 18,
   "metadata": {},
   "outputs": [
    {
     "data": {
      "text/html": [
       "<div>\n",
       "<style scoped>\n",
       "    .dataframe tbody tr th:only-of-type {\n",
       "        vertical-align: middle;\n",
       "    }\n",
       "\n",
       "    .dataframe tbody tr th {\n",
       "        vertical-align: top;\n",
       "    }\n",
       "\n",
       "    .dataframe thead th {\n",
       "        text-align: right;\n",
       "    }\n",
       "</style>\n",
       "<table border=\"1\" class=\"dataframe\">\n",
       "  <thead>\n",
       "    <tr style=\"text-align: right;\">\n",
       "      <th></th>\n",
       "      <th>a</th>\n",
       "    </tr>\n",
       "  </thead>\n",
       "  <tbody>\n",
       "    <tr>\n",
       "      <th>0</th>\n",
       "      <td>http://www.wikidata.org/entity/Q2316927</td>\n",
       "    </tr>\n",
       "    <tr>\n",
       "      <th>1</th>\n",
       "      <td>http://www.wikidata.org/entity/Q455552</td>\n",
       "    </tr>\n",
       "  </tbody>\n",
       "</table>\n",
       "</div>"
      ],
      "text/plain": [
       "                                         a\n",
       "0  http://www.wikidata.org/entity/Q2316927\n",
       "1   http://www.wikidata.org/entity/Q455552"
      ]
     },
     "execution_count": 18,
     "metadata": {},
     "output_type": "execute_result"
    }
   ],
   "source": [
    "dataframe = sparql_query('select * where { ?a <http://www.wikidata.org/entity/P31> <http://www.wikidata.org/entity/Q11424> } ')\n",
    "dataframe.head(10)"
   ]
  },
  {
   "cell_type": "markdown",
   "metadata": {},
   "source": [
    "Calling the result \"a\" is likely to cause confusion, so we can rename the result column to \"film_work\""
   ]
  },
  {
   "cell_type": "code",
   "execution_count": 19,
   "metadata": {},
   "outputs": [
    {
     "data": {
      "text/html": [
       "<div>\n",
       "<style scoped>\n",
       "    .dataframe tbody tr th:only-of-type {\n",
       "        vertical-align: middle;\n",
       "    }\n",
       "\n",
       "    .dataframe tbody tr th {\n",
       "        vertical-align: top;\n",
       "    }\n",
       "\n",
       "    .dataframe thead th {\n",
       "        text-align: right;\n",
       "    }\n",
       "</style>\n",
       "<table border=\"1\" class=\"dataframe\">\n",
       "  <thead>\n",
       "    <tr style=\"text-align: right;\">\n",
       "      <th></th>\n",
       "      <th>film_work</th>\n",
       "    </tr>\n",
       "  </thead>\n",
       "  <tbody>\n",
       "    <tr>\n",
       "      <th>0</th>\n",
       "      <td>http://www.wikidata.org/entity/Q2316927</td>\n",
       "    </tr>\n",
       "    <tr>\n",
       "      <th>1</th>\n",
       "      <td>http://www.wikidata.org/entity/Q455552</td>\n",
       "    </tr>\n",
       "  </tbody>\n",
       "</table>\n",
       "</div>"
      ],
      "text/plain": [
       "                                 film_work\n",
       "0  http://www.wikidata.org/entity/Q2316927\n",
       "1   http://www.wikidata.org/entity/Q455552"
      ]
     },
     "execution_count": 19,
     "metadata": {},
     "output_type": "execute_result"
    }
   ],
   "source": [
    "dataframe = sparql_query('select ?film_work where { ?film_work <http://www.wikidata.org/entity/P31> <http://www.wikidata.org/entity/Q11424> } ')\n",
    "dataframe.head(10)"
   ]
  },
  {
   "cell_type": "markdown",
   "metadata": {},
   "source": [
    "We can also ask questions about specific items, for example who directed http://www.wikidata.org/entity/Q455552?"
   ]
  },
  {
   "cell_type": "code",
   "execution_count": 20,
   "metadata": {},
   "outputs": [
    {
     "data": {
      "text/html": [
       "<div>\n",
       "<style scoped>\n",
       "    .dataframe tbody tr th:only-of-type {\n",
       "        vertical-align: middle;\n",
       "    }\n",
       "\n",
       "    .dataframe tbody tr th {\n",
       "        vertical-align: top;\n",
       "    }\n",
       "\n",
       "    .dataframe thead th {\n",
       "        text-align: right;\n",
       "    }\n",
       "</style>\n",
       "<table border=\"1\" class=\"dataframe\">\n",
       "  <thead>\n",
       "    <tr style=\"text-align: right;\">\n",
       "      <th></th>\n",
       "      <th>director</th>\n",
       "    </tr>\n",
       "  </thead>\n",
       "  <tbody>\n",
       "    <tr>\n",
       "      <th>0</th>\n",
       "      <td>http://www.wikidata.org/entity/Q446294</td>\n",
       "    </tr>\n",
       "  </tbody>\n",
       "</table>\n",
       "</div>"
      ],
      "text/plain": [
       "                                 director\n",
       "0  http://www.wikidata.org/entity/Q446294"
      ]
     },
     "execution_count": 20,
     "metadata": {},
     "output_type": "execute_result"
    }
   ],
   "source": [
    "dataframe = sparql_query('select ?director where { <http://www.wikidata.org/entity/Q455552> <http://www.wikidata.org/entity/P57> ?director } ')\n",
    "dataframe.head(10)"
   ]
  },
  {
   "cell_type": "markdown",
   "metadata": {},
   "source": [
    "At this stage, we may realise that our ability to make interesting queries is limited because the initial data statements were minimal\n",
    "\n",
    "For instance, we have no formal link between the \"film work\" and \"film item\" (eg http://my-archive.org/acetate_print_of_simple_men and http://www.wikidata.org/entity/Q2316927)\n",
    "\n",
    "To fix can create a new property http://my-archive.org/has_film_item and link our \"film works\" and \"film items\" together"
   ]
  },
  {
   "cell_type": "markdown",
   "metadata": {},
   "source": [
    "```\n",
    "<http://www.wikidata.org/entity/Q2316927> <http://my-archive.org/has_film_item> <http://my-archive.org/acetate_print_of_simple_men> .\n",
    "<http://www.wikidata.org/entity/Q455552> <http://my-archive.org/has_film_item> <http://my-archive.org/polyester_print_of_amateur> .\n",
    "```"
   ]
  },
  {
   "cell_type": "markdown",
   "metadata": {},
   "source": [
    "We are currently getting responses to our questions as URLs, so then need to consult the URL itself to find out \"what it is\"\n",
    "\n",
    "We can fix this situation by adding labels\n",
    "\n",
    "Again this has no connection with what Wikidata calls these things, we can name them whatever we like in our own graph"
   ]
  },
  {
   "cell_type": "markdown",
   "metadata": {},
   "source": [
    "```\n",
    "http://www.wikidata.org/entity/Q446294 has label \"Hal Hartley\"\n",
    "http://www.wikidata.org/entity/Q2316927 has label \"Simple Men\"\n",
    "http://www.wikidata.org/entity/Q455552 has label \"Amateur\"\n",
    "http://my-archive.org/acetate_print_of_simple_men has label \"Acetate Print of Simple Men\"\n",
    "http://my-archive.org/polyester_print_of_amateur has label \"Polyester Print of Amateur\"\t\n",
    "http://www.wikidata.org/entity/Q11424 has label \"Film Work\"\n",
    "http://my-archive.org/film_item has label \"Film Item\"\n",
    "http://www.wikidata.org/entity/Q124686 has label \"Acetate\"\n",
    "http://www.wikidata.org/entity/Q188245 has label \"Polyester\"\n",
    "```"
   ]
  },
  {
   "cell_type": "markdown",
   "metadata": {},
   "source": [
    "Luckily for us, \"has label\" is already an established property (http://www.w3.org/2000/01/rdf-schema#label) which we can reuse"
   ]
  },
  {
   "cell_type": "markdown",
   "metadata": {},
   "source": [
    "```\n",
    "<http://www.wikidata.org/entity/Q446294> <http://www.w3.org/2000/01/rdf-schema#label> \"Hal Hartley\" .\n",
    "<http://www.wikidata.org/entity/Q2316927> <http://www.w3.org/2000/01/rdf-schema#label> \"Simple Men\" .\n",
    "<http://www.wikidata.org/entity/Q455552> <http://www.w3.org/2000/01/rdf-schema#label> \"Amateur\" .\n",
    "<http://my-archive.org/acetate_print_of_simple_men> <http://www.w3.org/2000/01/rdf-schema#label> \"Acetate Print of Simple Men\" .\n",
    "<http://my-archive.org/polyester_print_of_amateur> <http://www.w3.org/2000/01/rdf-schema#label> \"Polyester Print of Amateur\" .\n",
    "<http://www.wikidata.org/entity/Q11424> <http://www.w3.org/2000/01/rdf-schema#label> \"Film Work\" .\n",
    "<http://my-archive.org/film_item> <http://www.w3.org/2000/01/rdf-schema#label> \"Film Item\" .\n",
    "<http://www.wikidata.org/entity/Q124686> <http://www.w3.org/2000/01/rdf-schema#label> \"Acetate\" .\n",
    "<http://www.wikidata.org/entity/Q188245> <http://www.w3.org/2000/01/rdf-schema#label> \"Polyester\" .\n",
    "```"
   ]
  },
  {
   "cell_type": "markdown",
   "metadata": {},
   "source": [
    "Notice that our labels are not URLs, they are just the words wrapped in quotation marks\n",
    "\n",
    "These are what is known as \"literals\""
   ]
  }
 ],
 "metadata": {
  "interpreter": {
   "hash": "916dbcbb3f70747c44a77c7bcd40155683ae19c65e1c03b4aa3499c5328201f1"
  },
  "kernelspec": {
   "display_name": "Python 3.10.4 64-bit",
   "language": "python",
   "name": "python3"
  },
  "language_info": {
   "codemirror_mode": {
    "name": "ipython",
    "version": 3
   },
   "file_extension": ".py",
   "mimetype": "text/x-python",
   "name": "python",
   "nbconvert_exporter": "python",
   "pygments_lexer": "ipython3",
   "version": "3.10.4"
  },
  "orig_nbformat": 4
 },
 "nbformat": 4,
 "nbformat_minor": 2
}
